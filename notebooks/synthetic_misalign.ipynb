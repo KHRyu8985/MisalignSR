{
 "cells": [
  {
   "cell_type": "code",
   "execution_count": 108,
   "metadata": {},
   "outputs": [
    {
     "data": {
      "application/vnd.jupyter.widget-view+json": {
       "model_id": "680f32539bda48d784f3d3a6a9150c3c",
       "version_major": 2,
       "version_minor": 0
      },
      "text/plain": [
       "interactive(children=(IntSlider(value=15, description='slice', max=27376), Output()), _dom_classes=('widget-in…"
      ]
     },
     "metadata": {},
     "output_type": "display_data"
    },
    {
     "data": {
      "text/plain": [
       "<function __main__.adjusted_display_images(slice=15)>"
      ]
     },
     "execution_count": 108,
     "metadata": {},
     "output_type": "execute_result"
    }
   ],
   "source": [
    "from ipywidgets import interact\n",
    "import matplotlib.pyplot as plt\n",
    "from basicsr.utils import tensor2img\n",
    "import os\n",
    "import gradio as gr\n",
    "from basicsr.data.paired_image_dataset import PairedImageDataset\n",
    "\n",
    "def adjusted_display_images(slice=15):\n",
    "    train_dict = dset[slice]\n",
    "    \n",
    "    lq = tensor2img(train_dict['lq'], rgb2bgr=False)\n",
    "    gt = tensor2img(train_dict['gt'], rgb2bgr=False)\n",
    "    \n",
    "    # Check if the images are grayscale or RGB\n",
    "    cmap_lq = 'gray' if lq.ndim == 2 else None\n",
    "    cmap_gt = 'gray' if gt.ndim == 2 else None\n",
    "    \n",
    "    # Create a single figure with two subplots\n",
    "    fig, axes = plt.subplots(1, 2, figsize=(12, 6))\n",
    "    \n",
    "    # Display lq image on the first subplot\n",
    "    axes[0].imshow(lq, cmap=cmap_lq)\n",
    "    axes[0].set_title(\"LQ\")\n",
    "    axes[0].axis(\"off\")\n",
    "    \n",
    "    # Display gt image on the second subplot\n",
    "    axes[1].imshow(gt, cmap=cmap_gt)\n",
    "    axes[1].set_title(\"GT\")\n",
    "    axes[1].axis(\"off\")\n",
    "    \n",
    "    \n",
    "    plt.tight_layout()\n",
    "    plt.show()\n",
    "\n",
    "opt = {}\n",
    "opt[\"dataroot_gt\"] = '/home/kanghyun/MisalignSR/datasets/DIV2K/DIV2K_train_HR_sub_misaligned'\n",
    "opt[\"dataroot_lq\"] = '/home/kanghyun/MisalignSR/datasets/DIV2K/DIV2K_train_HR_sub'\n",
    "opt[\"io_backend\"] = {}\n",
    "opt[\"io_backend\"][\"type\"] = 'disk'\n",
    "opt[\"scale\"] = 1\n",
    "opt[\"gt_size\"] = 96\n",
    "opt[\"phase\"] = 'train'\n",
    "opt[\"use_hflip\"] = False\n",
    "opt[\"use_rot\"] = False\n",
    "\n",
    "dset = PairedImageDataset(opt)\n",
    "\n",
    "interact(adjusted_display_images, slice=(0, len(dset)-1, 1))\n"
   ]
  },
  {
   "cell_type": "code",
   "execution_count": 105,
   "metadata": {},
   "outputs": [
    {
     "name": "stderr",
     "output_type": "stream",
     "text": [
      "/tmp/ipykernel_11635/3871726176.py:16: GradioUnusedKwargWarning: You have unused kwarg parameters in Slider, please remove them: {'default': 50}\n",
      "  image_slider = gr.Slider(minimum=0, maximum=len(dset)-1, step=1, default=50, label='Dataset index')\n"
     ]
    },
    {
     "name": "stdout",
     "output_type": "stream",
     "text": [
      "Running on local URL:  http://127.0.0.1:7877\n",
      "\n",
      "To create a public link, set `share=True` in `launch()`.\n"
     ]
    },
    {
     "data": {
      "text/html": [
       "<div><iframe src=\"http://127.0.0.1:7877/\" width=\"100%\" height=\"500\" allow=\"autoplay; camera; microphone; clipboard-read; clipboard-write;\" frameborder=\"0\" allowfullscreen></iframe></div>"
      ],
      "text/plain": [
       "<IPython.core.display.HTML object>"
      ]
     },
     "metadata": {},
     "output_type": "display_data"
    },
    {
     "data": {
      "text/plain": []
     },
     "execution_count": 105,
     "metadata": {},
     "output_type": "execute_result"
    }
   ],
   "source": [
    "def gr_adjusted_display_images(slice=15):\n",
    "    train_dict = dset[slice]\n",
    "    \n",
    "    lq = tensor2img(train_dict['lq'], rgb2bgr=False)\n",
    "    gt = tensor2img(train_dict['gt'], rgb2bgr=False)\n",
    "    \n",
    "    return lq, gt\n",
    "\n",
    "with gr.Blocks() as demo:\n",
    "    gr.Markdown(\"slide through the dataset\")\n",
    "    \n",
    "    with gr.Row():\n",
    "        image_output = gr.Image()\n",
    "        image_output2 = gr.Image()\n",
    "\n",
    "    image_slider = gr.Slider(minimum=0, maximum=len(dset)-1, step=1, default=50, label='Dataset index')\n",
    "    image_slider.change(gr_adjusted_display_images, outputs=[image_output, image_output2])\n",
    "\n",
    "demo.launch()"
   ]
  }
 ],
 "metadata": {
  "kernelspec": {
   "display_name": "MisalignSR",
   "language": "python",
   "name": "python3"
  },
  "language_info": {
   "codemirror_mode": {
    "name": "ipython",
    "version": 3
   },
   "file_extension": ".py",
   "mimetype": "text/x-python",
   "name": "python",
   "nbconvert_exporter": "python",
   "pygments_lexer": "ipython3",
   "version": "3.9.18"
  },
  "orig_nbformat": 4
 },
 "nbformat": 4,
 "nbformat_minor": 2
}
