{
 "cells": [
  {
   "cell_type": "code",
   "execution_count": 1,
   "metadata": {},
   "outputs": [
    {
     "name": "stderr",
     "output_type": "stream",
     "text": [
      "/home/kanghyun/miniconda3/envs/misalignsr/lib/python3.9/site-packages/torchvision/transforms/functional_tensor.py:5: UserWarning: The torchvision.transforms.functional_tensor module is deprecated in 0.15 and will be **removed in 0.17**. Please don't rely on it. You probably just need to use APIs in torchvision.transforms.functional or in torchvision.transforms.v2.functional.\n",
      "  warnings.warn(\n"
     ]
    },
    {
     "data": {
      "application/vnd.jupyter.widget-view+json": {
       "model_id": "445308f4b29f46638daef52685779f86",
       "version_major": 2,
       "version_minor": 0
      },
      "text/plain": [
       "VBox(children=(FileChooser(path='/home/kanghyun/MisalignSR', filename='', title='GT folder path', show_hidden=…"
      ]
     },
     "metadata": {},
     "output_type": "display_data"
    },
    {
     "data": {
      "application/vnd.jupyter.widget-view+json": {
       "model_id": "2acd9b4d1a53440ab67e568966cb4e07",
       "version_major": 2,
       "version_minor": 0
      },
      "text/plain": [
       "Output()"
      ]
     },
     "metadata": {},
     "output_type": "display_data"
    },
    {
     "data": {
      "application/vnd.jupyter.widget-view+json": {
       "model_id": "f1d9f9d7f42749749387a557b4a57431",
       "version_major": 2,
       "version_minor": 0
      },
      "text/plain": [
       "Output()"
      ]
     },
     "metadata": {},
     "output_type": "display_data"
    }
   ],
   "source": [
    "%matplotlib widget\n",
    "import pdb\n",
    "\n",
    "import matplotlib.pyplot as plt\n",
    "\n",
    "from functools import partial\n",
    "from ipywidgets import interact\n",
    "from IPython.display import display, clear_output\n",
    "from io import StringIO\n",
    "\n",
    "from basicsr.utils import tensor2img \n",
    "import os\n",
    "from misalignSR.data.paired_image_dataset import PairedImageDataset_v2\n",
    "from ipyfilechooser import FileChooser\n",
    "from ipywidgets import Layout, GridBox, Box, HBox, VBox, ValueWidget, Label, Text, fixed\n",
    "import ipywidgets as widgets\n",
    "\n",
    "import pprint\n",
    "import numpy as np\n",
    "\n",
    "def adjusted_display_images(slice, dset):\n",
    "    train_dict = dset[slice]\n",
    "\n",
    "    lq = tensor2img(train_dict['lq'], rgb2bgr=False)\n",
    "    gt = tensor2img(train_dict['gt'], rgb2bgr=False)\n",
    "\n",
    "    # Check if the images are grayscale or RGB\n",
    "    cmap_lq = 'gray' if lq.ndim == 2 else None\n",
    "    cmap_gt = 'gray' if gt.ndim == 2 else None\n",
    "\n",
    "    # Create a single figure with two subplots\n",
    "    fig, axes = plt.subplots(1, 2, figsize=(12, 5), num=1, clear=True)\n",
    "    # Display lq image on the first subplot\n",
    "    axes[0].imshow(lq, cmap=cmap_lq)\n",
    "    axes[0].set_title(\"LQ\")\n",
    "    axes[0].axis(\"off\")\n",
    "\n",
    "    # Display gt image on the second subplot\n",
    "    axes[1].imshow(gt, cmap=cmap_gt)\n",
    "    axes[1].set_title(\"GT\")\n",
    "    axes[1].axis(\"off\")\n",
    "\n",
    "    plt.show()\n",
    "\n",
    "# Event handler to update the opt dictionary when text input changes\n",
    "def update_opt(change, key):\n",
    "    try:\n",
    "        num = int(change[\"new\"])\n",
    "        opt[key] = num\n",
    "    except:\n",
    "        opt[key] = change[\"new\"]\n",
    "\n",
    "def on_folder_change(change, key):\n",
    "    opt[key] = change.selected\n",
    "\n",
    "\n",
    "# Define the initial opt dictionary\n",
    "opt = {}\n",
    "current_directory = os.getcwd()\n",
    "\n",
    "opt[\"dataroot_gt\"] = current_directory\n",
    "opt[\"dataroot_lq\"] = current_directory\n",
    "\n",
    "opt[\"gt_size\"] = 96\n",
    "opt[\"scale\"] = 1\n",
    "opt[\"phase\"] = \"train\"\n",
    "opt[\"use_hflip\"] = False\n",
    "opt[\"use_rot\"] = False\n",
    "\n",
    "widgets_list = []\n",
    "text_layout = Layout(width=\"500px\")  # adjust the value as needed\n",
    "\n",
    "dset = None\n",
    "\n",
    "fc_lq = FileChooser(\n",
    "    path=current_directory,  # starting directory\n",
    "    show_only_dirs=True,  # only show directories\n",
    "    title=\"LQ folder path\",\n",
    ")\n",
    "\n",
    "fc_gt = FileChooser(\n",
    "    path=current_directory,  # starting directory\n",
    "    show_only_dirs=True,  # only show directories\n",
    "    title=\"GT folder path\",\n",
    ")\n",
    "\n",
    "fc_lq.register_callback(partial(on_folder_change, key='dataroot_lq'))\n",
    "fc_gt.register_callback(partial(on_folder_change, key='dataroot_gt'))\n",
    "\n",
    "widgets_list.append(fc_gt)\n",
    "widgets_list.append(fc_lq)\n",
    "\n",
    "for idx, (key, value) in enumerate(opt.items()):\n",
    "    if idx < 2:\n",
    "        continue\n",
    "    if key == 'io_backend':\n",
    "        continue\n",
    "\n",
    "    txt = widgets.Text(value=str(value), description=key, layout=text_layout)\n",
    "    txt.observe(lambda change, k=key: update_opt(change, k), names=\"value\")\n",
    "    widgets_list.append(txt)\n",
    "\n",
    "out = widgets.Output()  # Your main output widget\n",
    "\n",
    "def initialize_and_display_slider(dset):\n",
    "    dset_length = len(dset)-1 if dset else 0\n",
    "    w = widgets.IntSlider(min=0, max=dset_length, step=1, value=0, description='Slice:')\n",
    "    func = partial(adjusted_display_images, dset=dset)\n",
    "    widget_out = widgets.interactive_output(func, {'slice': w})\n",
    "    with out:\n",
    "        display(w)\n",
    "        display(widget_out)\n",
    "\n",
    "def on_submit_button_clicked(button):\n",
    "    opt[\"io_backend\"] = {}\n",
    "    opt[\"io_backend\"][\"type\"] = \"disk\"\n",
    "\n",
    "    # Clear existing output\n",
    "    out.clear_output(wait=True)\n",
    "\n",
    "    # Reset globals (if needed) and print message\n",
    "    with out:\n",
    "        print(\"Dataset generated!\")\n",
    "        pprint.pprint(opt)\n",
    "    dset = PairedImageDataset_v2(opt)\n",
    "    # Initialize and display the slider\n",
    "    initialize_and_display_slider(dset)\n",
    "\n",
    "# Create the Submit button\n",
    "submit_button = widgets.Button(description=\"Submit\")\n",
    "submit_button.on_click(on_submit_button_clicked)\n",
    "\n",
    "# Add the button to your list of widgets to display\n",
    "widgets_list.append(submit_button)\n",
    "\n",
    "# Display all the widgets\n",
    "opt_widget = widgets.VBox(widgets_list)\n",
    "display(opt_widget)\n",
    "# Make sure to display your main output widget in your main layout\n",
    "display(out)"
   ]
  },
  {
   "cell_type": "code",
   "execution_count": 6,
   "metadata": {},
   "outputs": [
    {
     "name": "stdout",
     "output_type": "stream",
     "text": [
      "> \u001b[0;32m/home/kanghyun/MisalignSR/misalignSR/data/transforms.py\u001b[0m(63)\u001b[0;36mpaired_random_crop\u001b[0;34m()\u001b[0m\n",
      "\u001b[0;32m     61 \u001b[0;31m        \u001b[0mh_gt\u001b[0m\u001b[0;34m,\u001b[0m \u001b[0mw_gt\u001b[0m \u001b[0;34m=\u001b[0m \u001b[0mimg_gts\u001b[0m\u001b[0;34m[\u001b[0m\u001b[0;36m0\u001b[0m\u001b[0;34m]\u001b[0m\u001b[0;34m.\u001b[0m\u001b[0mshape\u001b[0m\u001b[0;34m[\u001b[0m\u001b[0;36m0\u001b[0m\u001b[0;34m:\u001b[0m\u001b[0;36m2\u001b[0m\u001b[0;34m]\u001b[0m\u001b[0;34m\u001b[0m\u001b[0;34m\u001b[0m\u001b[0m\n",
      "\u001b[0m\u001b[0;32m     62 \u001b[0;31m\u001b[0;34m\u001b[0m\u001b[0m\n",
      "\u001b[0m\u001b[0;32m---> 63 \u001b[0;31m    \u001b[0mlq_patch_size\u001b[0m \u001b[0;34m=\u001b[0m \u001b[0mint\u001b[0m\u001b[0;34m(\u001b[0m\u001b[0mgt_patch_size\u001b[0m \u001b[0;34m/\u001b[0m \u001b[0mscale\u001b[0m\u001b[0;34m)\u001b[0m\u001b[0;34m\u001b[0m\u001b[0;34m\u001b[0m\u001b[0m\n",
      "\u001b[0m\u001b[0;32m     64 \u001b[0;31m\u001b[0;34m\u001b[0m\u001b[0m\n",
      "\u001b[0m\u001b[0;32m     65 \u001b[0;31m    \u001b[0;32mif\u001b[0m \u001b[0mh_gt\u001b[0m \u001b[0;34m!=\u001b[0m \u001b[0mh_lq\u001b[0m \u001b[0;34m*\u001b[0m \u001b[0mscale\u001b[0m \u001b[0;32mor\u001b[0m \u001b[0mw_gt\u001b[0m \u001b[0;34m!=\u001b[0m \u001b[0mw_lq\u001b[0m \u001b[0;34m*\u001b[0m \u001b[0mscale\u001b[0m\u001b[0;34m:\u001b[0m\u001b[0;34m\u001b[0m\u001b[0;34m\u001b[0m\u001b[0m\n",
      "\u001b[0m\n",
      "\u001b[1;32m     58 \u001b[0m        \u001b[0mh_gt\u001b[0m\u001b[0;34m,\u001b[0m \u001b[0mw_gt\u001b[0m \u001b[0;34m=\u001b[0m \u001b[0mimg_gts\u001b[0m\u001b[0;34m[\u001b[0m\u001b[0;36m0\u001b[0m\u001b[0;34m]\u001b[0m\u001b[0;34m.\u001b[0m\u001b[0msize\u001b[0m\u001b[0;34m(\u001b[0m\u001b[0;34m)\u001b[0m\u001b[0;34m[\u001b[0m\u001b[0;34m-\u001b[0m\u001b[0;36m2\u001b[0m\u001b[0;34m:\u001b[0m\u001b[0;34m]\u001b[0m\u001b[0;34m\u001b[0m\u001b[0;34m\u001b[0m\u001b[0m\n",
      "\u001b[1;32m     59 \u001b[0m    \u001b[0;32melse\u001b[0m\u001b[0;34m:\u001b[0m\u001b[0;34m\u001b[0m\u001b[0;34m\u001b[0m\u001b[0m\n",
      "\u001b[1;32m     60 \u001b[0m        \u001b[0mh_lq\u001b[0m\u001b[0;34m,\u001b[0m \u001b[0mw_lq\u001b[0m \u001b[0;34m=\u001b[0m \u001b[0mimg_lqs\u001b[0m\u001b[0;34m[\u001b[0m\u001b[0;36m0\u001b[0m\u001b[0;34m]\u001b[0m\u001b[0;34m.\u001b[0m\u001b[0mshape\u001b[0m\u001b[0;34m[\u001b[0m\u001b[0;36m0\u001b[0m\u001b[0;34m:\u001b[0m\u001b[0;36m2\u001b[0m\u001b[0;34m]\u001b[0m\u001b[0;34m\u001b[0m\u001b[0;34m\u001b[0m\u001b[0m\n",
      "\u001b[1;32m     61 \u001b[0m        \u001b[0mh_gt\u001b[0m\u001b[0;34m,\u001b[0m \u001b[0mw_gt\u001b[0m \u001b[0;34m=\u001b[0m \u001b[0mimg_gts\u001b[0m\u001b[0;34m[\u001b[0m\u001b[0;36m0\u001b[0m\u001b[0;34m]\u001b[0m\u001b[0;34m.\u001b[0m\u001b[0mshape\u001b[0m\u001b[0;34m[\u001b[0m\u001b[0;36m0\u001b[0m\u001b[0;34m:\u001b[0m\u001b[0;36m2\u001b[0m\u001b[0;34m]\u001b[0m\u001b[0;34m\u001b[0m\u001b[0;34m\u001b[0m\u001b[0m\n",
      "\u001b[1;32m     62 \u001b[0m\u001b[0;34m\u001b[0m\u001b[0m\n",
      "\u001b[0;32m---> 63 \u001b[0;31m    \u001b[0mlq_patch_size\u001b[0m \u001b[0;34m=\u001b[0m \u001b[0mint\u001b[0m\u001b[0;34m(\u001b[0m\u001b[0mgt_patch_size\u001b[0m \u001b[0;34m/\u001b[0m \u001b[0mscale\u001b[0m\u001b[0;34m)\u001b[0m\u001b[0;34m\u001b[0m\u001b[0;34m\u001b[0m\u001b[0m\n",
      "\u001b[0m\u001b[1;32m     64 \u001b[0m\u001b[0;34m\u001b[0m\u001b[0m\n",
      "\u001b[1;32m     65 \u001b[0m    \u001b[0;32mif\u001b[0m \u001b[0mh_gt\u001b[0m \u001b[0;34m!=\u001b[0m \u001b[0mh_lq\u001b[0m \u001b[0;34m*\u001b[0m \u001b[0mscale\u001b[0m \u001b[0;32mor\u001b[0m \u001b[0mw_gt\u001b[0m \u001b[0;34m!=\u001b[0m \u001b[0mw_lq\u001b[0m \u001b[0;34m*\u001b[0m \u001b[0mscale\u001b[0m\u001b[0;34m:\u001b[0m\u001b[0;34m\u001b[0m\u001b[0;34m\u001b[0m\u001b[0m\n",
      "\u001b[1;32m     66 \u001b[0m        raise ValueError(f'Scale mismatches. GT ({h_gt}, {w_gt}) is not {scale}x ',\n",
      "\u001b[1;32m     67 \u001b[0m                         f'multiplication of LQ ({h_lq}, {w_lq}).')\n",
      "\u001b[1;32m     68 \u001b[0m    \u001b[0;32mif\u001b[0m \u001b[0mh_lq\u001b[0m \u001b[0;34m<\u001b[0m \u001b[0mlq_patch_size\u001b[0m \u001b[0;32mor\u001b[0m \u001b[0mw_lq\u001b[0m \u001b[0;34m<\u001b[0m \u001b[0mlq_patch_size\u001b[0m\u001b[0;34m:\u001b[0m\u001b[0;34m\u001b[0m\u001b[0;34m\u001b[0m\u001b[0m\n",
      "\n",
      "*** TypeError: unsupported operand type(s) for /: 'int' and 'str'\n",
      "3.5\n",
      "*** AttributeError: 'str' object has no attribute 'dtype'\n",
      "*** AttributeError: 'str' object has no attribute 'dtype'\n",
      "*** AttributeError: 'str' object has no attribute 'dtype'\n",
      "*** NameError: name 'fraction' is not defined\n",
      "'3.5'\n",
      "3.5\n",
      "hi\n",
      "hi\n"
     ]
    }
   ],
   "source": [
    "pdb.pm()"
   ]
  },
  {
   "cell_type": "code",
   "execution_count": null,
   "metadata": {},
   "outputs": [],
   "source": []
  }
 ],
 "metadata": {
  "kernelspec": {
   "display_name": "MisalignSR",
   "language": "python",
   "name": "python3"
  },
  "language_info": {
   "codemirror_mode": {
    "name": "ipython",
    "version": 3
   },
   "file_extension": ".py",
   "mimetype": "text/x-python",
   "name": "python",
   "nbconvert_exporter": "python",
   "pygments_lexer": "ipython3",
   "version": "3.9.0"
  },
  "orig_nbformat": 4
 },
 "nbformat": 4,
 "nbformat_minor": 2
}
